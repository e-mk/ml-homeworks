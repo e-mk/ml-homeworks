{
 "cells": [
  {
   "cell_type": "markdown",
   "metadata": {
    "collapsed": true
   },
   "source": [
    "# Introduction to Machine Learning\n",
    "## Homework 01: Linear Regression"
   ]
  },
  {
   "cell_type": "code",
   "execution_count": 7,
   "metadata": {
    "collapsed": true
   },
   "outputs": [],
   "source": [
    "# Importing cPickle, Numpy and Pyplot\n",
    "import pickle as cp\n",
    "import numpy as np\n",
    "import matplotlib.pyplot as plt\n",
    "\n",
    "# Load wite whine data\n",
    "X, y = cp.load(open('winequality-white.pickle', 'rb'), encoding='latin1')\n",
    "\n",
    "# Create the train and test sets\n",
    "N, D = X.shape\n",
    "\n",
    "N_train = int(0.8 * N)\n",
    "N_test = N - N_train\n",
    "\n",
    "X_train = X[:N_train]\n",
    "y_train = y[:N_train]\n",
    "\n",
    "X_test = X[N_train:]\n",
    "y_test = y[N_train:]"
   ]
  },
  {
   "cell_type": "code",
   "execution_count": 8,
   "metadata": {},
   "outputs": [
    {
     "name": "stdout",
     "output_type": "stream",
     "text": [
      "4898 11\n",
      "(3918, 11)\n",
      "(3918,)\n",
      "[  7.60000000e+00   2.40000000e-01   4.40000000e-01   3.80000000e+00\n",
      "   3.70000000e-02   4.90000000e+01   1.46000000e+02   9.91100000e-01\n",
      "   3.06000000e+00   3.70000000e-01   1.16000000e+01]\n",
      "6.0\n"
     ]
    }
   ],
   "source": [
    "# Making sense of the data\n",
    "print(N, D)\n",
    "\n",
    "print(X_train.shape)\n",
    "print(y_train.shape)\n",
    "\n",
    "print(X_train[0])\n",
    "print(y_train[0])"
   ]
  },
  {
   "cell_type": "code",
   "execution_count": 9,
   "metadata": {},
   "outputs": [
    {
     "name": "stdout",
     "output_type": "stream",
     "text": [
      "[ 3.  4.  5.  6.  7.  8.  9.]\n",
      "[  14  129 1164 1772  692  144    3]\n"
     ]
    }
   ],
   "source": [
    "# Find the unique elements of an array.\n",
    "unique, counts = np.unique(y_train, return_counts=True)\n",
    "print(unique)\n",
    "print(counts)"
   ]
  },
  {
   "cell_type": "code",
   "execution_count": 10,
   "metadata": {},
   "outputs": [
    {
     "data": {
      "image/png": "[encoded data removed]",
      "text/plain": [
       "<matplotlib.figure.Figure at 0x1040327b8>"
      ]
     },
     "metadata": {},
     "output_type": "display_data"
    }
   ],
   "source": [
    "# Creating a bar chart of distribution of y values of the training set\n",
    "plt.bar(unique, counts, align='center')\n",
    "plt.title(\"Distribution of y\")\n",
    "plt.xlabel(\"y\")\n",
    "plt.ylabel(\"Frequency\")\n",
    "\n",
    "plt.show()"
   ]
  },
  {
   "cell_type": "code",
   "execution_count": 11,
   "metadata": {},
   "outputs": [
    {
     "name": "stdout",
     "output_type": "stream",
     "text": [
      "y_train_mean = 5.879\n"
     ]
    }
   ],
   "source": [
    "# Get the average value of y in the training set\n",
    "y_train_mean = np.mean(y_train)\n",
    "print(\"y_train_mean = %.3f\" % y_train_mean)"
   ]
  },
  {
   "cell_type": "code",
   "execution_count": 14,
   "metadata": {},
   "outputs": [
    {
     "name": "stdout",
     "output_type": "stream",
     "text": [
      "[ 6.  5.  6. ...,  6.  6.  5.]\n",
      "[ 0.12123532 -0.87876468  0.12123532 ...,  0.12123532  0.12123532\n",
      " -0.87876468]\n",
      "[ 0.014698    0.77222736  0.014698   ...,  0.014698    0.014698    0.77222736]\n"
     ]
    }
   ],
   "source": [
    "# Taking a closer look at y's\n",
    "\n",
    "print(y_train)\n",
    "print(y_train - y_train_mean)\n",
    "print((y_train - y_train_mean)**2)"
   ]
  },
  {
   "cell_type": "code",
   "execution_count": 15,
   "metadata": {},
   "outputs": [
    {
     "name": "stdout",
     "output_type": "stream",
     "text": [
      "By predicting the average value of y from the training set, we get the following MSEs\n",
      "MSE_train = 0.777\n",
      "MSE_test = 0.814\n"
     ]
    }
   ],
   "source": [
    "# Define a function returning the Mean Squared Error\n",
    "def MSE(y_actual, y_predict):\n",
    "    return np.mean((y_predict - y_actual)**2)\n",
    "\n",
    "# Get the MSE of train and test data by predicting the average value of y of the training set\n",
    "sq_error_train = MSE(y_train, y_train_mean)\n",
    "sq_error_test = MSE(y_test, y_train_mean)\n",
    "\n",
    "print(\"By predicting the average value of y from the training set, we get the following MSEs\")\n",
    "print(\"MSE_train = %.3f\" % sq_error_train)\n",
    "print(\"MSE_test = %.3f\" % sq_error_test)"
   ]
  },
  {
   "cell_type": "code",
   "execution_count": 17,
   "metadata": {},
   "outputs": [],
   "source": [
    "# Linear Regression Using Least Squares\n",
    "\n",
    "# First, we need to standartize the training and test sets, so that\n",
    "# the each feature have zero mean and unit variance\n",
    "X_train_std = np.ones((N_train, D + 1))\n",
    "X_test_std = np.ones((N_test, D + 1))\n",
    "\n",
    "for j in range(0, D):\n",
    "    avg = np.mean(X_train[:, j]) \n",
    "    std = np.std(X_train[:, j]) \n",
    "    X_train_std[:,j+1] = (X_train[:,j] - avg) / std\n",
    "    X_test_std[:,j+1] = (X_test[:,j] - avg) / std\n",
    "    \n",
    "# or in a short form \n",
    "# X_std = (X_train - np.mean(X_train, axis=0)) / np.std(X_train, axis=0)"
   ]
  },
  {
   "cell_type": "code",
   "execution_count": 18,
   "metadata": {},
   "outputs": [
    {
     "name": "stdout",
     "output_type": "stream",
     "text": [
      "1.0\n",
      "-8.34225774501e-16\n",
      "-3.80842201403e-17\n",
      "0.0\n",
      "1.0\n",
      "1.0\n"
     ]
    }
   ],
   "source": [
    "# Make sure we standartized the data as expected\n",
    "print(np.mean(X_train_std[:,0]))\n",
    "print(np.mean(X_train_std[:,1]))\n",
    "print(np.mean(X_train_std[:,2]))\n",
    "\n",
    "print(np.std(X_train_std[:,0]))\n",
    "print(np.std(X_train_std[:,1]))\n",
    "print(np.std(X_train_std[:,3]))"
   ]
  },
  {
   "cell_type": "markdown",
   "metadata": {},
   "source": [
    "Let's define a function that fits the Linear Regression model and returnes optimal model parameters. The formulata, as you remember, looks like this:"
   ]
  },
  {
   "cell_type": "markdown",
   "metadata": {},
   "source": [
    "$$\\Huge \\mathbf{w} = \\Big( \\mathbf{X}^\\text{T} \\mathbf{X} \\Big)^{-1} \\mathbf{X}^\\text{T} y$$"
   ]
  },
  {
   "cell_type": "code",
   "execution_count": 19,
   "metadata": {},
   "outputs": [],
   "source": [
    "def get_linear_model(X, y):\n",
    "    return np.dot(np.dot(np.linalg.inv(np.dot(np.transpose(X), X)), np.transpose(X)), y)"
   ]
  },
  {
   "cell_type": "code",
   "execution_count": 22,
   "metadata": {},
   "outputs": [
    {
     "name": "stdout",
     "output_type": "stream",
     "text": [
      "By using Linear Regression, we get the following MSEs\n",
      "MSE_train = 0.564\n",
      "MSE_test = 0.561\n"
     ]
    }
   ],
   "source": [
    "# Define a function that outputs the predictions of given input data wrt to a given linear model w\n",
    "def linear_predict(X, w):\n",
    "    return np.dot(X, w)\n",
    "\n",
    "w = get_linear_model(X_train_std, y_train)\n",
    "\n",
    "print(\"By using Linear Regression, we get the following MSEs\")\n",
    "print(\"MSE_train = %.3f\" % MSE(y_train, linear_predict(X_train_std, w)))\n",
    "print(\"MSE_test = %.3f\" % MSE(y_test, linear_predict(X_test_std, w)))"
   ]
  },
  {
   "cell_type": "code",
   "execution_count": 23,
   "metadata": {},
   "outputs": [
    {
     "data": {
      "image/png": "[encoded data removed]",
      "text/plain": [
       "<matplotlib.figure.Figure at 0x106181e48>"
      ]
     },
     "metadata": {},
     "output_type": "display_data"
    }
   ],
   "source": [
    "plt.figure()\n",
    "\n",
    "points = range(20, 600, 20)\n",
    "error_train = np.zeros(len(points))\n",
    "error_test = np.zeros(len(points))\n",
    "\n",
    "# Iterate through the training data size from 20 to 600\n",
    "for i in range(0, len(points)):\n",
    "    \n",
    "    # Get the linear model by using only i training samples and compute the MSEs for training and test sets\n",
    "    X_train_current = X_train_std[:points[i]]\n",
    "    y_train_current = y_train[:points[i]]\n",
    "    \n",
    "    # Fit the model\n",
    "    w = get_linear_model(X_train_current, y_train_current)\n",
    "    \n",
    "    # Computed the MSEs\n",
    "    error_train[i] = MSE(linear_predict(X_train_current, w), y_train_current)\n",
    "    error_test[i] = MSE(linear_predict(X_test_std, w), y_test)\n",
    "\n",
    "plt.xlabel('Training set size')    \n",
    "plt.ylabel('Error')    \n",
    "\n",
    "# Plot the learning curve\n",
    "plt.plot(points, error_train, 'b', label='Training Error')\n",
    "plt.plot(points, error_test, 'r', label='Test Error')\n",
    "\n",
    "plt.legend()\n",
    "plt.show()"
   ]
  },
  {
   "cell_type": "markdown",
   "metadata": {
    "collapsed": true
   },
   "source": [
    "The figure illustrates that the learning algorithm is suffering from a high bias (underfitting). The test error does not improve with the increase of training set size. Therefore, getting more train data will not help much.\n",
    "\n",
    "# Polynomial Basis Expansion with Ridge and Lasso"
   ]
  },
  {
   "cell_type": "code",
   "execution_count": 25,
   "metadata": {
    "collapsed": true
   },
   "outputs": [],
   "source": [
    "# Import the necessary classes\n",
    "\n",
    "from sklearn import linear_model\n",
    "from sklearn.preprocessing import PolynomialFeatures\n",
    "from sklearn.preprocessing import StandardScaler\n",
    "from sklearn.pipeline import Pipeline\n",
    "\n",
    "# Set the last 20% of the training set for the purpose of validaiton\n",
    "N_train_new = int(0.8 * N_train)\n",
    "N_cv = N_train - N_train_new\n",
    "\n",
    "X_train_new = X[:N_train_new]\n",
    "y_train_new = y[:N_train_new]\n",
    "\n",
    "X_cv = X[N_train_new:N_train]\n",
    "y_cv = y[N_train_new:N_train]"
   ]
  },
  {
   "cell_type": "code",
   "execution_count": 35,
   "metadata": {},
   "outputs": [
    {
     "ename": "KeyboardInterrupt",
     "evalue": "",
     "output_type": "error",
     "traceback": [
      "\u001b[0;31m---------------------------------------------------------------------------\u001b[0m",
      "\u001b[0;31mKeyboardInterrupt\u001b[0m                         Traceback (most recent call last)",
      "\u001b[0;32m<ipython-input-35-54dc3d6a031e>\u001b[0m in \u001b[0;36m<module>\u001b[0;34m()\u001b[0m\n\u001b[1;32m     14\u001b[0m                           ('ridge', linear_model.Ridge(alpha = alpha, fit_intercept = True))])\n\u001b[1;32m     15\u001b[0m \u001b[0;34m\u001b[0m\u001b[0m\n\u001b[0;32m---> 16\u001b[0;31m         \u001b[0mmodel\u001b[0m\u001b[0;34m.\u001b[0m\u001b[0mfit\u001b[0m\u001b[0;34m(\u001b[0m\u001b[0mX_train_new\u001b[0m\u001b[0;34m,\u001b[0m \u001b[0my_train_new\u001b[0m\u001b[0;34m)\u001b[0m\u001b[0;34m\u001b[0m\u001b[0m\n\u001b[0m\u001b[1;32m     17\u001b[0m \u001b[0;34m\u001b[0m\u001b[0m\n\u001b[1;32m     18\u001b[0m         \u001b[0merror\u001b[0m \u001b[0;34m=\u001b[0m \u001b[0mMSE\u001b[0m\u001b[0;34m(\u001b[0m\u001b[0mmodel\u001b[0m\u001b[0;34m.\u001b[0m\u001b[0mpredict\u001b[0m\u001b[0;34m(\u001b[0m\u001b[0mX_cv\u001b[0m\u001b[0;34m)\u001b[0m\u001b[0;34m,\u001b[0m \u001b[0my_cv\u001b[0m\u001b[0;34m)\u001b[0m\u001b[0;34m\u001b[0m\u001b[0m\n",
      "\u001b[0;32m~/anaconda3/lib/python3.6/site-packages/sklearn/pipeline.py\u001b[0m in \u001b[0;36mfit\u001b[0;34m(self, X, y, **fit_params)\u001b[0m\n\u001b[1;32m    255\u001b[0m             \u001b[0mThis\u001b[0m \u001b[0mestimator\u001b[0m\u001b[0;34m\u001b[0m\u001b[0m\n\u001b[1;32m    256\u001b[0m         \"\"\"\n\u001b[0;32m--> 257\u001b[0;31m         \u001b[0mXt\u001b[0m\u001b[0;34m,\u001b[0m \u001b[0mfit_params\u001b[0m \u001b[0;34m=\u001b[0m \u001b[0mself\u001b[0m\u001b[0;34m.\u001b[0m\u001b[0m_fit\u001b[0m\u001b[0;34m(\u001b[0m\u001b[0mX\u001b[0m\u001b[0;34m,\u001b[0m \u001b[0my\u001b[0m\u001b[0;34m,\u001b[0m \u001b[0;34m**\u001b[0m\u001b[0mfit_params\u001b[0m\u001b[0;34m)\u001b[0m\u001b[0;34m\u001b[0m\u001b[0m\n\u001b[0m\u001b[1;32m    258\u001b[0m         \u001b[0;32mif\u001b[0m \u001b[0mself\u001b[0m\u001b[0;34m.\u001b[0m\u001b[0m_final_estimator\u001b[0m \u001b[0;32mis\u001b[0m \u001b[0;32mnot\u001b[0m \u001b[0;32mNone\u001b[0m\u001b[0;34m:\u001b[0m\u001b[0;34m\u001b[0m\u001b[0m\n\u001b[1;32m    259\u001b[0m             \u001b[0mself\u001b[0m\u001b[0;34m.\u001b[0m\u001b[0m_final_estimator\u001b[0m\u001b[0;34m.\u001b[0m\u001b[0mfit\u001b[0m\u001b[0;34m(\u001b[0m\u001b[0mXt\u001b[0m\u001b[0;34m,\u001b[0m \u001b[0my\u001b[0m\u001b[0;34m,\u001b[0m \u001b[0;34m**\u001b[0m\u001b[0mfit_params\u001b[0m\u001b[0;34m)\u001b[0m\u001b[0;34m\u001b[0m\u001b[0m\n",
      "\u001b[0;32m~/anaconda3/lib/python3.6/site-packages/sklearn/pipeline.py\u001b[0m in \u001b[0;36m_fit\u001b[0;34m(self, X, y, **fit_params)\u001b[0m\n\u001b[1;32m    220\u001b[0m                 Xt, fitted_transformer = fit_transform_one_cached(\n\u001b[1;32m    221\u001b[0m                     \u001b[0mcloned_transformer\u001b[0m\u001b[0;34m,\u001b[0m \u001b[0;32mNone\u001b[0m\u001b[0;34m,\u001b[0m \u001b[0mXt\u001b[0m\u001b[0;34m,\u001b[0m \u001b[0my\u001b[0m\u001b[0;34m,\u001b[0m\u001b[0;34m\u001b[0m\u001b[0m\n\u001b[0;32m--> 222\u001b[0;31m                     **fit_params_steps[name])\n\u001b[0m\u001b[1;32m    223\u001b[0m                 \u001b[0;31m# Replace the transformer of the step with the fitted\u001b[0m\u001b[0;34m\u001b[0m\u001b[0;34m\u001b[0m\u001b[0m\n\u001b[1;32m    224\u001b[0m                 \u001b[0;31m# transformer. This is necessary when loading the transformer\u001b[0m\u001b[0;34m\u001b[0m\u001b[0;34m\u001b[0m\u001b[0m\n",
      "\u001b[0;32m~/anaconda3/lib/python3.6/site-packages/sklearn/externals/joblib/memory.py\u001b[0m in \u001b[0;36m__call__\u001b[0;34m(self, *args, **kwargs)\u001b[0m\n\u001b[1;32m    360\u001b[0m \u001b[0;34m\u001b[0m\u001b[0m\n\u001b[1;32m    361\u001b[0m     \u001b[0;32mdef\u001b[0m \u001b[0m__call__\u001b[0m\u001b[0;34m(\u001b[0m\u001b[0mself\u001b[0m\u001b[0;34m,\u001b[0m \u001b[0;34m*\u001b[0m\u001b[0margs\u001b[0m\u001b[0;34m,\u001b[0m \u001b[0;34m**\u001b[0m\u001b[0mkwargs\u001b[0m\u001b[0;34m)\u001b[0m\u001b[0;34m:\u001b[0m\u001b[0;34m\u001b[0m\u001b[0m\n\u001b[0;32m--> 362\u001b[0;31m         \u001b[0;32mreturn\u001b[0m \u001b[0mself\u001b[0m\u001b[0;34m.\u001b[0m\u001b[0mfunc\u001b[0m\u001b[0;34m(\u001b[0m\u001b[0;34m*\u001b[0m\u001b[0margs\u001b[0m\u001b[0;34m,\u001b[0m \u001b[0;34m**\u001b[0m\u001b[0mkwargs\u001b[0m\u001b[0;34m)\u001b[0m\u001b[0;34m\u001b[0m\u001b[0m\n\u001b[0m\u001b[1;32m    363\u001b[0m \u001b[0;34m\u001b[0m\u001b[0m\n\u001b[1;32m    364\u001b[0m     \u001b[0;32mdef\u001b[0m \u001b[0mcall_and_shelve\u001b[0m\u001b[0;34m(\u001b[0m\u001b[0mself\u001b[0m\u001b[0;34m,\u001b[0m \u001b[0;34m*\u001b[0m\u001b[0margs\u001b[0m\u001b[0;34m,\u001b[0m \u001b[0;34m**\u001b[0m\u001b[0mkwargs\u001b[0m\u001b[0;34m)\u001b[0m\u001b[0;34m:\u001b[0m\u001b[0;34m\u001b[0m\u001b[0m\n",
      "\u001b[0;32m~/anaconda3/lib/python3.6/site-packages/sklearn/pipeline.py\u001b[0m in \u001b[0;36m_fit_transform_one\u001b[0;34m(transformer, weight, X, y, **fit_params)\u001b[0m\n\u001b[1;32m    587\u001b[0m                        **fit_params):\n\u001b[1;32m    588\u001b[0m     \u001b[0;32mif\u001b[0m \u001b[0mhasattr\u001b[0m\u001b[0;34m(\u001b[0m\u001b[0mtransformer\u001b[0m\u001b[0;34m,\u001b[0m \u001b[0;34m'fit_transform'\u001b[0m\u001b[0;34m)\u001b[0m\u001b[0;34m:\u001b[0m\u001b[0;34m\u001b[0m\u001b[0m\n\u001b[0;32m--> 589\u001b[0;31m         \u001b[0mres\u001b[0m \u001b[0;34m=\u001b[0m \u001b[0mtransformer\u001b[0m\u001b[0;34m.\u001b[0m\u001b[0mfit_transform\u001b[0m\u001b[0;34m(\u001b[0m\u001b[0mX\u001b[0m\u001b[0;34m,\u001b[0m \u001b[0my\u001b[0m\u001b[0;34m,\u001b[0m \u001b[0;34m**\u001b[0m\u001b[0mfit_params\u001b[0m\u001b[0;34m)\u001b[0m\u001b[0;34m\u001b[0m\u001b[0m\n\u001b[0m\u001b[1;32m    590\u001b[0m     \u001b[0;32melse\u001b[0m\u001b[0;34m:\u001b[0m\u001b[0;34m\u001b[0m\u001b[0m\n\u001b[1;32m    591\u001b[0m         \u001b[0mres\u001b[0m \u001b[0;34m=\u001b[0m \u001b[0mtransformer\u001b[0m\u001b[0;34m.\u001b[0m\u001b[0mfit\u001b[0m\u001b[0;34m(\u001b[0m\u001b[0mX\u001b[0m\u001b[0;34m,\u001b[0m \u001b[0my\u001b[0m\u001b[0;34m,\u001b[0m \u001b[0;34m**\u001b[0m\u001b[0mfit_params\u001b[0m\u001b[0;34m)\u001b[0m\u001b[0;34m.\u001b[0m\u001b[0mtransform\u001b[0m\u001b[0;34m(\u001b[0m\u001b[0mX\u001b[0m\u001b[0;34m)\u001b[0m\u001b[0;34m\u001b[0m\u001b[0m\n",
      "\u001b[0;32m~/anaconda3/lib/python3.6/site-packages/sklearn/base.py\u001b[0m in \u001b[0;36mfit_transform\u001b[0;34m(self, X, y, **fit_params)\u001b[0m\n\u001b[1;32m    519\u001b[0m         \u001b[0;32melse\u001b[0m\u001b[0;34m:\u001b[0m\u001b[0;34m\u001b[0m\u001b[0m\n\u001b[1;32m    520\u001b[0m             \u001b[0;31m# fit method of arity 2 (supervised transformation)\u001b[0m\u001b[0;34m\u001b[0m\u001b[0;34m\u001b[0m\u001b[0m\n\u001b[0;32m--> 521\u001b[0;31m             \u001b[0;32mreturn\u001b[0m \u001b[0mself\u001b[0m\u001b[0;34m.\u001b[0m\u001b[0mfit\u001b[0m\u001b[0;34m(\u001b[0m\u001b[0mX\u001b[0m\u001b[0;34m,\u001b[0m \u001b[0my\u001b[0m\u001b[0;34m,\u001b[0m \u001b[0;34m**\u001b[0m\u001b[0mfit_params\u001b[0m\u001b[0;34m)\u001b[0m\u001b[0;34m.\u001b[0m\u001b[0mtransform\u001b[0m\u001b[0;34m(\u001b[0m\u001b[0mX\u001b[0m\u001b[0;34m)\u001b[0m\u001b[0;34m\u001b[0m\u001b[0m\n\u001b[0m\u001b[1;32m    522\u001b[0m \u001b[0;34m\u001b[0m\u001b[0m\n\u001b[1;32m    523\u001b[0m \u001b[0;34m\u001b[0m\u001b[0m\n",
      "\u001b[0;32m~/anaconda3/lib/python3.6/site-packages/sklearn/preprocessing/data.py\u001b[0m in \u001b[0;36mfit\u001b[0;34m(self, X, y)\u001b[0m\n\u001b[1;32m    588\u001b[0m         \u001b[0;31m# Reset internal state before fitting\u001b[0m\u001b[0;34m\u001b[0m\u001b[0;34m\u001b[0m\u001b[0m\n\u001b[1;32m    589\u001b[0m         \u001b[0mself\u001b[0m\u001b[0;34m.\u001b[0m\u001b[0m_reset\u001b[0m\u001b[0;34m(\u001b[0m\u001b[0;34m)\u001b[0m\u001b[0;34m\u001b[0m\u001b[0m\n\u001b[0;32m--> 590\u001b[0;31m         \u001b[0;32mreturn\u001b[0m \u001b[0mself\u001b[0m\u001b[0;34m.\u001b[0m\u001b[0mpartial_fit\u001b[0m\u001b[0;34m(\u001b[0m\u001b[0mX\u001b[0m\u001b[0;34m,\u001b[0m \u001b[0my\u001b[0m\u001b[0;34m)\u001b[0m\u001b[0;34m\u001b[0m\u001b[0m\n\u001b[0m\u001b[1;32m    591\u001b[0m \u001b[0;34m\u001b[0m\u001b[0m\n\u001b[1;32m    592\u001b[0m     \u001b[0;32mdef\u001b[0m \u001b[0mpartial_fit\u001b[0m\u001b[0;34m(\u001b[0m\u001b[0mself\u001b[0m\u001b[0;34m,\u001b[0m \u001b[0mX\u001b[0m\u001b[0;34m,\u001b[0m \u001b[0my\u001b[0m\u001b[0;34m=\u001b[0m\u001b[0;32mNone\u001b[0m\u001b[0;34m)\u001b[0m\u001b[0;34m:\u001b[0m\u001b[0;34m\u001b[0m\u001b[0m\n",
      "\u001b[0;32m~/anaconda3/lib/python3.6/site-packages/sklearn/preprocessing/data.py\u001b[0m in \u001b[0;36mpartial_fit\u001b[0;34m(self, X, y)\u001b[0m\n\u001b[1;32m    610\u001b[0m         \"\"\"\n\u001b[1;32m    611\u001b[0m         X = check_array(X, accept_sparse=('csr', 'csc'), copy=self.copy,\n\u001b[0;32m--> 612\u001b[0;31m                         warn_on_dtype=True, estimator=self, dtype=FLOAT_DTYPES)\n\u001b[0m\u001b[1;32m    613\u001b[0m \u001b[0;34m\u001b[0m\u001b[0m\n\u001b[1;32m    614\u001b[0m         \u001b[0;31m# Even in the case of `with_mean=False`, we update the mean anyway\u001b[0m\u001b[0;34m\u001b[0m\u001b[0;34m\u001b[0m\u001b[0m\n",
      "\u001b[0;32m~/anaconda3/lib/python3.6/site-packages/sklearn/utils/validation.py\u001b[0m in \u001b[0;36mcheck_array\u001b[0;34m(array, accept_sparse, dtype, order, copy, force_all_finite, ensure_2d, allow_nd, ensure_min_samples, ensure_min_features, warn_on_dtype, estimator)\u001b[0m\n\u001b[1;32m    400\u001b[0m                                       force_all_finite)\n\u001b[1;32m    401\u001b[0m     \u001b[0;32melse\u001b[0m\u001b[0;34m:\u001b[0m\u001b[0;34m\u001b[0m\u001b[0m\n\u001b[0;32m--> 402\u001b[0;31m         \u001b[0marray\u001b[0m \u001b[0;34m=\u001b[0m \u001b[0mnp\u001b[0m\u001b[0;34m.\u001b[0m\u001b[0marray\u001b[0m\u001b[0;34m(\u001b[0m\u001b[0marray\u001b[0m\u001b[0;34m,\u001b[0m \u001b[0mdtype\u001b[0m\u001b[0;34m=\u001b[0m\u001b[0mdtype\u001b[0m\u001b[0;34m,\u001b[0m \u001b[0morder\u001b[0m\u001b[0;34m=\u001b[0m\u001b[0morder\u001b[0m\u001b[0;34m,\u001b[0m \u001b[0mcopy\u001b[0m\u001b[0;34m=\u001b[0m\u001b[0mcopy\u001b[0m\u001b[0;34m)\u001b[0m\u001b[0;34m\u001b[0m\u001b[0m\n\u001b[0m\u001b[1;32m    403\u001b[0m \u001b[0;34m\u001b[0m\u001b[0m\n\u001b[1;32m    404\u001b[0m         \u001b[0;32mif\u001b[0m \u001b[0mensure_2d\u001b[0m\u001b[0;34m:\u001b[0m\u001b[0;34m\u001b[0m\u001b[0m\n",
      "\u001b[0;31mKeyboardInterrupt\u001b[0m: "
     ]
    }
   ],
   "source": [
    "# Possible values for lambda and degree of the polynomial features\n",
    "lambda_values = [1e-05, 0.0001, 0.001, 0.01, 0.1, 1, 10, 100, 1000, 10000, 100000]\n",
    "degree_values = [2, 3, 4, 5, 10]\n",
    "\n",
    "ridgeBestAlpha = 0\n",
    "ridgeBestDegree = 0\n",
    "ridgeBestError = -1\n",
    "\n",
    "for alpha in lambda_values:\n",
    "    \n",
    "    for degree in degree_values:\n",
    "        \n",
    "        model = Pipeline([('poly', PolynomialFeatures(degree)), ('scale', StandardScaler()), \n",
    "                          ('ridge', linear_model.Ridge(alpha = alpha, fit_intercept = True))])\n",
    "        \n",
    "        model.fit(X_train_new, y_train_new)\n",
    "        \n",
    "        error = MSE(model.predict(X_cv), y_cv)\n",
    "\n",
    "        if (ridgeBestError == -1 or error < ridgeBestError):\n",
    "            ridgeBestAlpha = alpha\n",
    "            ridgeBestDegree = degree\n",
    "            ridgeBestError = error\n",
    "\n",
    "print(\"The optimal values of hyperparameters for Ridge Regression are\")\n",
    "print(\"Lambda = \", ridgeBestAlpha)\n",
    "print(\"Degree = \", ridgeBestDegree)"
   ]
  },
  {
   "cell_type": "code",
   "execution_count": 27,
   "metadata": {},
   "outputs": [
    {
     "name": "stdout",
     "output_type": "stream",
     "text": [
      "The optimal values of hyperparameters for Lasso are\n",
      "Lambda =  0.001\n",
      "Degree =  4\n"
     ]
    }
   ],
   "source": [
    "import warnings\n",
    "warnings.filterwarnings(\"ignore\", category=Warning)\n",
    "\n",
    "lassoBestAlpha = 0\n",
    "lassoBestDegree = 0\n",
    "lassoBestError = -1\n",
    "\n",
    "for alpha in lambda_values:\n",
    "    \n",
    "    for degree in degree_values:\n",
    "                \n",
    "        model = Pipeline([('poly', PolynomialFeatures(degree = degree)), ('scale', StandardScaler()), \n",
    "                          ('lasso', linear_model.Lasso(alpha = alpha, fit_intercept = True))])\n",
    "        \n",
    "        model.fit(X_train_new, y_train_new)\n",
    "        \n",
    "        error = MSE(model.predict(X_cv), y_cv)\n",
    "\n",
    "        if (lassoBestError == -1 or error < lassoBestError):\n",
    "            lassoBestAlpha = alpha\n",
    "            lassoBestDegree = degree\n",
    "            lassoBestError = error\n",
    "\n",
    "print(\"The optimal values of hyperparameters for Lasso are\")\n",
    "print(\"Lambda = \", lassoBestAlpha)\n",
    "print(\"Degree = \", lassoBestDegree)"
   ]
  },
  {
   "cell_type": "code",
   "execution_count": 28,
   "metadata": {},
   "outputs": [
    {
     "name": "stdout",
     "output_type": "stream",
     "text": [
      "By using Ridge with degree =  4 , lambda =  10 , we get the following MSEs\n",
      "For training set -  0.450439081198\n",
      "For test set -  0.586035132479\n"
     ]
    }
   ],
   "source": [
    "# After obtaining the optimal values for lambda and degree for Ridge and Lasso,\n",
    "# let's train the models using the obtained hyperparameters on the whole training dataset\n",
    "\n",
    "# Let's start with Ridge\n",
    "ridgeModel = Pipeline([('poly', PolynomialFeatures(ridgeBestDegree)), ('scale', StandardScaler()), \n",
    "                          ('ridge', linear_model.Ridge(alpha = ridgeBestAlpha, fit_intercept = True))])\n",
    "\n",
    "ridgeModel.fit(X_train, y_train)\n",
    "ridgeTrain = MSE(ridgeModel.predict(X_train), y_train)\n",
    "ridgeTest = MSE(ridgeModel.predict(X_test), y_test)\n",
    "\n",
    "print(\"By using Ridge with degree = \", ridgeBestDegree, \", lambda = \", ridgeBestAlpha, \", we get the following MSEs\")\n",
    "print(\"For training set - \", ridgeTrain)\n",
    "print(\"For test set - \", ridgeTest)"
   ]
  },
  {
   "cell_type": "code",
   "execution_count": 29,
   "metadata": {},
   "outputs": [
    {
     "name": "stdout",
     "output_type": "stream",
     "text": [
      "By using Ridge with degree =  4 , lambda =  0.001 , we get the following MSEs\n",
      "For training set -  0.476253585967\n",
      "For test set -  0.533767672614\n"
     ]
    }
   ],
   "source": [
    "# Let's do the same for Lasso\n",
    "lassoModel = Pipeline([('poly', PolynomialFeatures(lassoBestDegree)), ('scale', StandardScaler()), \n",
    "                          ('lasso', linear_model.Lasso(alpha = lassoBestAlpha, fit_intercept = True))])\n",
    "\n",
    "lassoModel.fit(X_train, y_train)\n",
    "lassoTrain = MSE(lassoModel.predict(X_train), y_train)\n",
    "lassoTest = MSE(lassoModel.predict(X_test), y_test)\n",
    "\n",
    "print(\"By using Ridge with degree = \", lassoBestDegree, \", lambda = \", lassoBestAlpha, \", we get the following MSEs\")\n",
    "print(\"For training set - \", lassoTrain)\n",
    "print(\"For test set - \", lassoTest)"
   ]
  },
  {
   "cell_type": "code",
   "execution_count": 34,
   "metadata": {},
   "outputs": [
    {
     "data": {
      "image/png": "[encoded data removed]",
      "text/plain": [
       "<matplotlib.figure.Figure at 0x105a3a048>"
      ]
     },
     "metadata": {},
     "output_type": "display_data"
    }
   ],
   "source": [
    "plt.figure()\n",
    "\n",
    "points = range(20, 600, 20)\n",
    "error_train = np.zeros(len(points))\n",
    "error_test = np.zeros(len(points))\n",
    "\n",
    "# Let's do the same for Lasso\n",
    "lassoModel = Pipeline([('poly', PolynomialFeatures(lassoBestDegree)), ('scale', StandardScaler()), \n",
    "                          ('lasso', linear_model.Lasso(alpha = lassoBestAlpha, fit_intercept = True))])\n",
    "\n",
    "lassoModel.fit(X_train, y_train)\n",
    "#lassoTrain = MSE(lassoModel.predict(X_train), y_train)\n",
    "#lassoTest = MSE(lassoModel.predict(X_test), y_test)\n",
    "\n",
    "# Iterate through the training data size from 20 to 600\n",
    "for i in range(0, len(points)):\n",
    "    \n",
    "    # Get the linear model by using only i training samples and compute the MSEs for training and test sets\n",
    "    X_train_current = X_train[:points[i]]\n",
    "    y_train_current = y_train[:points[i]]\n",
    "    \n",
    "    # Fit the model\n",
    "    lassoModel.fit(X_train_current, y_train_current)\n",
    "    \n",
    "    # Computed the MSEs\n",
    "    error_train[i] = MSE(lassoModel.predict(X_train_current), y_train_current)\n",
    "    error_test[i] = MSE(lassoModel.predict(X_test), y_test)\n",
    "\n",
    "plt.xlabel('Training set size')    \n",
    "plt.ylabel('Error')    \n",
    "\n",
    "# Plot the learning curve\n",
    "plt.plot(points, error_train, 'b', label='Training Error')\n",
    "plt.plot(points, error_test, 'r', label='Test Error')\n",
    "\n",
    "plt.legend()\n",
    "plt.show()"
   ]
  }
 ],
 "metadata": {
  "anaconda-cloud": {},
  "kernelspec": {
   "display_name": "Python 3",
   "language": "python",
   "name": "python3"
  },
  "language_info": {
   "codemirror_mode": {
    "name": "ipython",
    "version": 3
   },
   "file_extension": ".py",
   "mimetype": "text/x-python",
   "name": "python",
   "nbconvert_exporter": "python",
   "pygments_lexer": "ipython3",
   "version": "3.6.2"
  }
 },
 "nbformat": 4,
 "nbformat_minor": 1
}
