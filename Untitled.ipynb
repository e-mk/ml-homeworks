{
 "cells": [
  {
   "cell_type": "code",
   "execution_count": 1,
   "metadata": {},
   "outputs": [],
   "source": [
    "import pickle as cp\n",
    "import numpy as np\n",
    "from collections import Counter\n",
    "import matplotlib.pyplot as plt\n",
    "\n",
    "X, y = cp.load(open('winequality-white.pickle', 'rb'), encoding='latin1')\n",
    "N, D = X.shape\n",
    "N_train = int(0.8 * N)\n",
    "N_test = N - N_train\n",
    "X_train = X[:N_train]\n",
    "y_train = y[:N_train]\n",
    "X_test = X[N_train:]\n",
    "y_test = y[N_train:]"
   ]
  },
  {
   "cell_type": "code",
   "execution_count": 2,
   "metadata": {},
   "outputs": [
    {
     "data": {
      "text/plain": [
       "<Container object of 7 artists>"
      ]
     },
     "execution_count": 2,
     "metadata": {},
     "output_type": "execute_result"
    },
    {
     "data": {
      "image/png": "[encoded data removed]",
      "text/plain": [
       "<matplotlib.figure.Figure at 0x25131cec668>"
      ]
     },
     "metadata": {},
     "output_type": "display_data"
    }
   ],
   "source": [
    "performance = Counter.values(Counter(y))\n",
    "y_pos = Counter.keys(Counter(y))\n",
    "\n",
    "plt.bar(y_pos, performance, align='center', alpha=1)"
   ]
  },
  {
   "cell_type": "code",
   "execution_count": 3,
   "metadata": {},
   "outputs": [
    {
     "data": {
      "text/plain": [
       "0.8138573000045545"
      ]
     },
     "execution_count": 3,
     "metadata": {},
     "output_type": "execute_result"
    }
   ],
   "source": [
    "average_y = np.mean(y_train)\n",
    "def squared_error(average, vector):\n",
    "    return [(average - el)**2 for el in vector]\n",
    "def mean_squared_error(vector):\n",
    "    return sum([el for el in squared_error(average_y,vector)])/len(vector)\n",
    "  \n",
    "mean_squared_error(y_test)"
   ]
  },
  {
   "cell_type": "code",
   "execution_count": 7,
   "metadata": {},
   "outputs": [],
   "source": [
    "def standartization(X):\n",
    "    transp = X.T\n",
    "    for column in transp:\n",
    "        min_element=min(column)\n",
    "        max_element=max(column)\n",
    "        index = 2/(max_element-min_element)\n",
    "        for indx, el in enumerate(column):\n",
    "            column[indx] = (el-min_element)*index-1\n",
    "    return transp.T\n"
   ]
  },
  {
   "cell_type": "code",
   "execution_count": 8,
   "metadata": {},
   "outputs": [
    {
     "data": {
      "text/plain": [
       "array([[-0.26923077, -0.68627451, -0.46987952, ..., -0.38181818,\n",
       "        -0.65116279,  0.16129032],\n",
       "       [-0.40384615, -0.35294118, -0.60240964, ..., -0.12727273,\n",
       "        -0.30232558, -0.5483871 ],\n",
       "       [ 0.19230769, -0.76470588, -0.53012048, ..., -0.49090909,\n",
       "        -0.53488372, -0.22580645],\n",
       "       ...,\n",
       "       [-0.51923077, -0.21568627, -0.95180723, ..., -0.05454545,\n",
       "        -0.6744186 , -0.48387097],\n",
       "       [-0.61538462, -0.90196078, -0.73493976, ...,  0.09090909,\n",
       "        -0.53488372,  0.19354839],\n",
       "       [-0.23076923, -0.52941176, -0.60240964, ..., -0.36363636,\n",
       "        -0.1627907 , -0.48387097]])"
      ]
     },
     "execution_count": 8,
     "metadata": {},
     "output_type": "execute_result"
    }
   ],
   "source": [
    "standartization(X)\n"
   ]
  },
  {
   "cell_type": "code",
   "execution_count": 9,
   "metadata": {},
   "outputs": [],
   "source": [
    "from sympy import *\n",
    "def squared_error(average, vector):\n",
    "    return [(average - el)**2 for el in vector]\n",
    "def mean_squared_error_loss(hat, vector):\n",
    "    return sum([el for el in squared_error(hat, vector)])/(2*len(vector) )\n",
    "    "
   ]
  },
  {
   "cell_type": "code",
   "execution_count": 10,
   "metadata": {},
   "outputs": [],
   "source": [
    "def hats(weight_vector, X_matrix):\n",
    "    hats_vector = np.dot(X_matrix,weight_vector[1:])\n",
    "    return hats_vector"
   ]
  },
  {
   "cell_type": "code",
   "execution_count": 11,
   "metadata": {},
   "outputs": [],
   "source": [
    "def loss(y_vector, x_matrix, weights):\n",
    "    hats_vector = hats(weights, X)   #(4898,1)\n",
    "    error_rate = 0\n",
    "    for index, el in enumerate(y_vector):   # for el in y(4898,1)\n",
    "        diff_square = (hats_vector[index]-el)**2        \n",
    "        error_rate += diff_square\n",
    "    return error_rate/(2*len(y_vector))"
   ]
  },
  {
   "cell_type": "code",
   "execution_count": 12,
   "metadata": {},
   "outputs": [],
   "source": [
    "def df_dx(y,X,weights,index):\n",
    "    h = 0.05\n",
    "    current = loss(y,X,weights)\n",
    "    weights_=np.append(weights[:index],weights[index]+h)\n",
    "    weights_ = np.append(weights_,weights[index+1:])\n",
    "    next_ = loss(y,X,weights_)\n",
    "    #print('index:' + str(index)    +' weights: ' + str(weights_[index]))\n",
    "    return (next_-current)/h\n"
   ]
  },
  {
   "cell_type": "code",
   "execution_count": 13,
   "metadata": {},
   "outputs": [],
   "source": [
    "def simplify(weights):\n",
    "    for index, el in enumerate(weights):\n",
    "        weights[index] -= 0.5*df_dx(y,X,weights, index)\n",
    "        #print ( weights[index])\n",
    "    return weights"
   ]
  },
  {
   "cell_type": "code",
   "execution_count": 14,
   "metadata": {},
   "outputs": [],
   "source": [
    "def predict_weights(y_vector, x_matrix, weights):\n",
    "    index = 0\n",
    "    while True:\n",
    "        current_loss = loss(y_vector, x_matrix, weights)\n",
    "        weights = simplify(weights)\n",
    "        #print(weights)\n",
    "        next_loss = loss(y_vector, x_matrix, weights)\n",
    "        #print(\"***loss:\"+str(next_loss))\n",
    "        index+=1\n",
    "        if(0.5 >= next_loss or next_loss==current_loss):\n",
    "            break;\n",
    "    #print(weights)\n",
    "    return current_loss"
   ]
  },
  {
   "cell_type": "code",
   "execution_count": 36,
   "metadata": {},
   "outputs": [],
   "source": [
    "weights=np.array([2.1,3.5,1.0,-1.4,2.1,-2.0,0.1,2,.3,.1,4.1,0.8])"
   ]
  },
  {
   "cell_type": "code",
   "execution_count": 37,
   "metadata": {},
   "outputs": [
    {
     "data": {
      "text/plain": [
       "51.44083750437429"
      ]
     },
     "execution_count": 37,
     "metadata": {},
     "output_type": "execute_result"
    }
   ],
   "source": [
    "loss(y_test, X_test, weights) "
   ]
  },
  {
   "cell_type": "code",
   "execution_count": 38,
   "metadata": {},
   "outputs": [
    {
     "data": {
      "text/plain": [
       "51.87641606281173"
      ]
     },
     "execution_count": 38,
     "metadata": {},
     "output_type": "execute_result"
    }
   ],
   "source": [
    "loss(y_train, X_train, weights) "
   ]
  },
  {
   "cell_type": "code",
   "execution_count": 39,
   "metadata": {},
   "outputs": [
    {
     "data": {
      "text/plain": [
       "0.5009839887329932"
      ]
     },
     "execution_count": 39,
     "metadata": {},
     "output_type": "execute_result"
    }
   ],
   "source": [
    "predict_weights(y_train, X_train, weights) "
   ]
  },
  {
   "cell_type": "code",
   "execution_count": 20,
   "metadata": {},
   "outputs": [
    {
     "data": {
      "text/plain": [
       "array([ 2.1,  3.5,  1. , -1.4,  2.1, -2. ,  0.1,  2. ,  0.3,  0.1,  4.1,\n",
       "        0.8])"
      ]
     },
     "execution_count": 20,
     "metadata": {},
     "output_type": "execute_result"
    }
   ],
   "source": [
    "weights"
   ]
  },
  {
   "cell_type": "code",
   "execution_count": 40,
   "metadata": {},
   "outputs": [
    {
     "data": {
      "text/plain": [
       "0.7333359869268408"
      ]
     },
     "execution_count": 40,
     "metadata": {},
     "output_type": "execute_result"
    }
   ],
   "source": [
    "loss(y_test, X_test, weights) "
   ]
  },
  {
   "cell_type": "code",
   "execution_count": 41,
   "metadata": {},
   "outputs": [
    {
     "data": {
      "text/plain": [
       "0.49782270178523386"
      ]
     },
     "execution_count": 41,
     "metadata": {},
     "output_type": "execute_result"
    }
   ],
   "source": [
    "loss(y_train, X_train, weights) "
   ]
  },
  {
   "cell_type": "code",
   "execution_count": 21,
   "metadata": {},
   "outputs": [],
   "source": [
    "data_part=np.arange(0, len(X_train), 20)\n",
    "\n",
    "train_value=[predict_weights(y, X_train[:el], weights) for el in data_part]\n",
    "test_value=[predict_weights(y, X_test[:el], weights) for el in data_part]"
   ]
  },
  {
   "cell_type": "code",
   "execution_count": null,
   "metadata": {},
   "outputs": [],
   "source": [
    "plt.xlabel('% of data used')\n",
    "plt.ylabel('error rate')\n",
    "plt.plot(data_part, train_value)\n",
    "plt.plot(data_part, test_value)"
   ]
  }
 ],
 "metadata": {
  "kernelspec": {
   "display_name": "Python 3",
   "language": "python",
   "name": "python3"
  },
  "language_info": {
   "codemirror_mode": {
    "name": "ipython",
    "version": 3
   },
   "file_extension": ".py",
   "mimetype": "text/x-python",
   "name": "python",
   "nbconvert_exporter": "python",
   "pygments_lexer": "ipython3",
   "version": "3.6.4"
  }
 },
 "nbformat": 4,
 "nbformat_minor": 2
}
