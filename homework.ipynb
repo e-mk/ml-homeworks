{
 "cells": [
  {
   "cell_type": "code",
   "execution_count": 1,
   "metadata": {},
   "outputs": [],
   "source": [
    "import pickle as cp\n",
    "import numpy as np\n",
    "X, y = cp.load(open('resources/winequality-white.pickle', 'rb'), encoding='latin1')\n"
   ]
  },
  {
   "cell_type": "code",
   "execution_count": 2,
   "metadata": {},
   "outputs": [],
   "source": [
    "N, D = X.shape\n",
    "N_train = int(0.8 * N)\n",
    "N_test = N - N_train\n",
    "X_train = X[:N_train]\n",
    "y_train = y[:N_train]\n",
    "X_test = X[N_train:]\n",
    "y_test = y[N_train:]"
   ]
  },
  {
   "cell_type": "code",
   "execution_count": 3,
   "metadata": {},
   "outputs": [
    {
     "name": "stdout",
     "output_type": "stream",
     "text": [
      "4898 11 3918\n",
      "(3918, 11)\n",
      "(3918,)\n",
      "[7.600e+00 2.400e-01 4.400e-01 3.800e+00 3.700e-02 4.900e+01 1.460e+02\n",
      " 9.911e-01 3.060e+00 3.700e-01 1.160e+01]\n",
      "6.0\n"
     ]
    }
   ],
   "source": [
    "print(N, D, N_train)\n",
    "\n",
    "print(X_train.shape)\n",
    "print(y_train.shape)\n",
    "\n",
    "print(X_train[0])\n",
    "print(y_train[0])"
   ]
  },
  {
   "cell_type": "code",
   "execution_count": 4,
   "metadata": {},
   "outputs": [
    {
     "data": {
      "text/plain": [
       "array([[ 7.6 ,  0.24,  0.44, ...,  3.06,  0.37, 11.6 ],\n",
       "       [ 6.9 ,  0.41,  0.33, ...,  3.2 ,  0.52,  9.4 ],\n",
       "       [10.  ,  0.2 ,  0.39, ...,  3.  ,  0.42, 10.4 ],\n",
       "       ...,\n",
       "       [ 6.3 ,  0.48,  0.04, ...,  3.24,  0.36,  9.6 ],\n",
       "       [ 5.8 ,  0.13,  0.22, ...,  3.32,  0.42, 11.7 ],\n",
       "       [ 7.8 ,  0.32,  0.33, ...,  3.07,  0.58,  9.6 ]])"
      ]
     },
     "execution_count": 4,
     "metadata": {},
     "output_type": "execute_result"
    }
   ],
   "source": [
    "X"
   ]
  },
  {
   "cell_type": "code",
   "execution_count": 5,
   "metadata": {},
   "outputs": [
    {
     "data": {
      "text/plain": [
       "array([6., 5., 6., ..., 6., 6., 6.])"
      ]
     },
     "execution_count": 5,
     "metadata": {},
     "output_type": "execute_result"
    }
   ],
   "source": [
    "y"
   ]
  },
  {
   "cell_type": "code",
   "execution_count": 6,
   "metadata": {},
   "outputs": [],
   "source": [
    "from collections import Counter"
   ]
  },
  {
   "cell_type": "code",
   "execution_count": 7,
   "metadata": {},
   "outputs": [
    {
     "data": {
      "text/plain": [
       "Counter({3.0: 20, 4.0: 163, 5.0: 1457, 6.0: 2198, 7.0: 880, 8.0: 175, 9.0: 5})"
      ]
     },
     "execution_count": 7,
     "metadata": {},
     "output_type": "execute_result"
    }
   ],
   "source": [
    "Counter(y)"
   ]
  },
  {
   "cell_type": "code",
   "execution_count": 8,
   "metadata": {},
   "outputs": [],
   "source": [
    "import matplotlib.pyplot as plt"
   ]
  },
  {
   "cell_type": "code",
   "execution_count": 9,
   "metadata": {},
   "outputs": [
    {
     "data": {
      "text/plain": [
       "<Container object of 7 artists>"
      ]
     },
     "execution_count": 9,
     "metadata": {},
     "output_type": "execute_result"
    },
    {
     "data": {
      "image/png": "[encoded data removed]",
      "text/plain": [
       "<matplotlib.figure.Figure at 0x10aea09b0>"
      ]
     },
     "metadata": {},
     "output_type": "display_data"
    }
   ],
   "source": [
    "performance = Counter.values(Counter(y))\n",
    "y_pos = Counter.keys(Counter(y))\n",
    "\n",
    "plt.bar(y_pos, performance, align='center', alpha=1)"
   ]
  },
  {
   "cell_type": "code",
   "execution_count": 10,
   "metadata": {},
   "outputs": [],
   "source": [
    "average_y = np.mean(y_train)"
   ]
  },
  {
   "cell_type": "code",
   "execution_count": 11,
   "metadata": {},
   "outputs": [],
   "source": [
    "def squared_error(average, vector):\n",
    "    return [(el - average)**2 for el in vector]"
   ]
  },
  {
   "cell_type": "code",
   "execution_count": 12,
   "metadata": {},
   "outputs": [
    {
     "data": {
      "text/plain": [
       "4898"
      ]
     },
     "execution_count": 12,
     "metadata": {},
     "output_type": "execute_result"
    }
   ],
   "source": [
    "len(squared_error(average_y, y))"
   ]
  },
  {
   "cell_type": "code",
   "execution_count": 13,
   "metadata": {},
   "outputs": [],
   "source": [
    "def mean_squared_error(vector):\n",
    "    return sum([el for el in squared_error(average_y,vector)])/len(vector)\n",
    "  "
   ]
  },
  {
   "cell_type": "code",
   "execution_count": 14,
   "metadata": {},
   "outputs": [
    {
     "data": {
      "text/plain": [
       "0.8138573000045545"
      ]
     },
     "execution_count": 14,
     "metadata": {},
     "output_type": "execute_result"
    }
   ],
   "source": [
    "mean_squared_error(y_test)"
   ]
  },
  {
   "cell_type": "code",
   "execution_count": 15,
   "metadata": {},
   "outputs": [],
   "source": [
    "def standartization(X):\n",
    "    transp = X.T\n",
    "    for column in transp:\n",
    "        min_element=min(column)\n",
    "        max_element=max(column)\n",
    "        index = 2/(max_element-min_element)\n",
    "        for indx, el in enumerate(column):\n",
    "            column[indx] = (el-min_element)*index-1\n",
    "    X=transp.T\n",
    "    return X\n"
   ]
  },
  {
   "cell_type": "code",
   "execution_count": 16,
   "metadata": {},
   "outputs": [
    {
     "data": {
      "text/plain": [
       "array([[-0.26923077, -0.68627451, -0.46987952, ..., -0.38181818,\n",
       "        -0.65116279,  0.16129032],\n",
       "       [-0.40384615, -0.35294118, -0.60240964, ..., -0.12727273,\n",
       "        -0.30232558, -0.5483871 ],\n",
       "       [ 0.19230769, -0.76470588, -0.53012048, ..., -0.49090909,\n",
       "        -0.53488372, -0.22580645],\n",
       "       ...,\n",
       "       [-0.51923077, -0.21568627, -0.95180723, ..., -0.05454545,\n",
       "        -0.6744186 , -0.48387097],\n",
       "       [-0.61538462, -0.90196078, -0.73493976, ...,  0.09090909,\n",
       "        -0.53488372,  0.19354839],\n",
       "       [-0.23076923, -0.52941176, -0.60240964, ..., -0.36363636,\n",
       "        -0.1627907 , -0.48387097]])"
      ]
     },
     "execution_count": 16,
     "metadata": {},
     "output_type": "execute_result"
    }
   ],
   "source": [
    "standartization(X)\n"
   ]
  },
  {
   "cell_type": "code",
   "execution_count": 17,
   "metadata": {},
   "outputs": [
    {
     "data": {
      "text/plain": [
       "array([[-0.26923077, -0.68627451, -0.46987952, ..., -0.38181818,\n",
       "        -0.65116279,  0.16129032],\n",
       "       [-0.40384615, -0.35294118, -0.60240964, ..., -0.12727273,\n",
       "        -0.30232558, -0.5483871 ],\n",
       "       [ 0.19230769, -0.76470588, -0.53012048, ..., -0.49090909,\n",
       "        -0.53488372, -0.22580645],\n",
       "       ...,\n",
       "       [-0.51923077, -0.21568627, -0.95180723, ..., -0.05454545,\n",
       "        -0.6744186 , -0.48387097],\n",
       "       [-0.61538462, -0.90196078, -0.73493976, ...,  0.09090909,\n",
       "        -0.53488372,  0.19354839],\n",
       "       [-0.23076923, -0.52941176, -0.60240964, ..., -0.36363636,\n",
       "        -0.1627907 , -0.48387097]])"
      ]
     },
     "execution_count": 17,
     "metadata": {},
     "output_type": "execute_result"
    }
   ],
   "source": [
    "X"
   ]
  },
  {
   "cell_type": "code",
   "execution_count": 18,
   "metadata": {},
   "outputs": [],
   "source": [
    "weights=np.array([1,-1,0,-2,2,-1,0,2,0,-1,1,0])"
   ]
  },
  {
   "cell_type": "code",
   "execution_count": 19,
   "metadata": {},
   "outputs": [],
   "source": [
    "from sympy import *\n",
    "def squared_error(average, vector):\n",
    "    return [(el - average)**2 for el in vector]\n",
    "def mean_squared_error_loss(hat, vector):\n",
    "    return sum([el for el in squared_error(hat, vector)])/(2*len(vector) )\n",
    "    "
   ]
  },
  {
   "cell_type": "code",
   "execution_count": 20,
   "metadata": {},
   "outputs": [
    {
     "data": {
      "text/plain": [
       "array([-1,  0, -2,  2, -1,  0,  2,  0, -1,  1,  0])"
      ]
     },
     "execution_count": 20,
     "metadata": {},
     "output_type": "execute_result"
    }
   ],
   "source": [
    "weights[1:].T"
   ]
  },
  {
   "cell_type": "code",
   "execution_count": 21,
   "metadata": {},
   "outputs": [],
   "source": [
    "def hats(weight_vector, X_matrix):\n",
    "    hats_vector = np.dot(X_matrix, weight_vector[1:])\n",
    "    return hats_vector"
   ]
  },
  {
   "cell_type": "code",
   "execution_count": 22,
   "metadata": {},
   "outputs": [
    {
     "data": {
      "text/plain": [
       "4898"
      ]
     },
     "execution_count": 22,
     "metadata": {},
     "output_type": "execute_result"
    }
   ],
   "source": [
    "#hats(weights, X)\n",
    "len(hats(weights, X))\n"
   ]
  },
  {
   "cell_type": "code",
   "execution_count": 23,
   "metadata": {},
   "outputs": [],
   "source": [
    "def loss(y_vector, x_matrix, weights):\n",
    "    hats_vector = hats(weights, x_matrix)   #(4898,1)\n",
    "    error_rate = 0\n",
    "    for index, el in enumerate(y_vector):   # for el in y(4898,1)\n",
    "        diff_square = (hats_vector[index]-el)**2        \n",
    "        error_rate += diff_square\n",
    "    return error_rate/(2*len(y_vector))"
   ]
  },
  {
   "cell_type": "code",
   "execution_count": 24,
   "metadata": {},
   "outputs": [
    {
     "data": {
      "text/plain": [
       "19.642557446362485"
      ]
     },
     "execution_count": 24,
     "metadata": {},
     "output_type": "execute_result"
    }
   ],
   "source": [
    "loss(y_train,X_train,weights)\n"
   ]
  },
  {
   "cell_type": "code",
   "execution_count": 31,
   "metadata": {},
   "outputs": [],
   "source": [
    "def df_dx(y_vector,x_matrix,weights,index):\n",
    "    h=0.1e-5\n",
    "    current = loss(y_vector, x_matrix, weights)\n",
    "    weights_ = np.append(weights[:index], weights[index] + h)\n",
    "    weights_ = np.append(weights_, weights[index + 1:])\n",
    "    next_ = loss(y_vector,x_matrix,weights_)\n",
    "    #print('index:' + str(index)    +' weights: ' + str(weights_[index]))\n",
    "    return (next_ - current)/h\n"
   ]
  },
  {
   "cell_type": "code",
   "execution_count": 26,
   "metadata": {},
   "outputs": [],
   "source": [
    "\n",
    "def train(weights, y_vector, x_matrix):\n",
    "    weights_new = np.array([])\n",
    "    for index, el in enumerate(weights):\n",
    "        weights_new = np.append(weights_new, weights[index] - 0.02 * df_dx(y_vector, x_matrix, weights, index))\n",
    "    return weights_new"
   ]
  },
  {
   "cell_type": "code",
   "execution_count": 35,
   "metadata": {},
   "outputs": [],
   "source": [
    "def train_weights(y_vector, x_matrix, weights):\n",
    "    \n",
    "    index = 0\n",
    "    current_loss = loss(y_vector, x_matrix, weights)\n",
    "    while True:\n",
    "        weights = train(weights, y_vector, x_matrix)\n",
    "        next_loss = loss(y_vector, x_matrix, weights)\n",
    "        \n",
    "        index+=1\n",
    "        if(0.5 >= next_loss or index > 50):\n",
    "            current_loss = next_loss\n",
    "            break;\n",
    "    \n",
    "#     index = 0\n",
    "#     #print(len(weights))\n",
    "#     while True:\n",
    "#         current_loss = loss(y_vector, x_matrix, weights)\n",
    "#         for index, el in enumerate(simplify(weights, y_vector, x_matrix)):\n",
    "#             weights[index]=el\n",
    "        \n",
    "#         #print ( \"weights:  \" + str(weights))\n",
    "        \n",
    "#         next_loss = loss(y_vector, x_matrix, weights)\n",
    "#         #print(\"***loss:\"+str(next_loss))\n",
    "#         index+=1\n",
    "#         if(0.3 >= next_loss or index > 20):\n",
    "#             current_loss = next_loss\n",
    "#             break;\n",
    "#     #print(weights)\n",
    "    return current_loss, weights"
   ]
  },
  {
   "cell_type": "code",
   "execution_count": 28,
   "metadata": {},
   "outputs": [],
   "source": [
    "import matplotlib.pyplot as plt"
   ]
  },
  {
   "cell_type": "code",
   "execution_count": 29,
   "metadata": {},
   "outputs": [
    {
     "data": {
      "text/plain": [
       "array([0.05, 0.1 , 0.15, 0.2 , 0.25, 0.3 , 0.35, 0.4 , 0.45, 0.5 , 0.55,\n",
       "       0.6 , 0.65, 0.7 , 0.75, 0.8 , 0.85, 0.9 , 0.95])"
      ]
     },
     "execution_count": 29,
     "metadata": {},
     "output_type": "execute_result"
    }
   ],
   "source": [
    "data_part=np.arange(0.05, 1, 0.05)\n",
    "len(data_part)\n",
    "train_value=np.array([])\n",
    "test_value=np.array([])\n",
    "data_part"
   ]
  },
  {
   "cell_type": "code",
   "execution_count": null,
   "metadata": {},
   "outputs": [],
   "source": [
    "# def curve_values(data_part, y_train, y_test, X_train, X_test):\n",
    "\n",
    "train_value=np.array([])\n",
    "test_value=np.array([])\n",
    "for index, el in enumerate(data_part):\n",
    "    weights=np.array([1.,1.,1.,-1.4,1.,-1.,0.1,2,.3,.1,4.1,0.8])\n",
    "    train_error, weights = train_weights(y_train[:int(len(y_train)*el)], X_train[:int((len(X_train))*el)], weights)\n",
    "    test_error = loss(y_test, X_test, weights)\n",
    "    train_value = np.append(train_value, train_error)\n",
    "    test_value = np.append(test_value, test_error)\n",
    "#     if(train_error==test_error):\n",
    "#         break;\n",
    "\n",
    "print(train_value)\n",
    "\n",
    "#train_value"
   ]
  },
  {
   "cell_type": "code",
   "execution_count": null,
   "metadata": {},
   "outputs": [],
   "source": [
    "#curve_values(data_part, y_train, y_test, X_train, X_test)"
   ]
  },
  {
   "cell_type": "code",
   "execution_count": null,
   "metadata": {},
   "outputs": [],
   "source": [
    "len(data_part)"
   ]
  },
  {
   "cell_type": "code",
   "execution_count": null,
   "metadata": {},
   "outputs": [],
   "source": [
    "len(train_value)"
   ]
  },
  {
   "cell_type": "code",
   "execution_count": 33,
   "metadata": {},
   "outputs": [
    {
     "data": {
      "image/png": "[encoded data removed]",
      "text/plain": [
       "<matplotlib.figure.Figure at 0x111a8c358>"
      ]
     },
     "metadata": {},
     "output_type": "display_data"
    }
   ],
   "source": [
    "plt.xlabel('# of data used')\n",
    "plt.ylabel('error rate')\n",
    "plt.plot(data_part, train_value, 'b', label='Training Error')\n",
    "plt.plot(data_part, test_value, 'g', label='Test Error')\n",
    "\n",
    "plt.legend()\n",
    "plt.show()"
   ]
  },
  {
   "cell_type": "code",
   "execution_count": null,
   "metadata": {},
   "outputs": [],
   "source": [
    "train_value"
   ]
  },
  {
   "cell_type": "code",
   "execution_count": null,
   "metadata": {},
   "outputs": [],
   "source": [
    "weights"
   ]
  },
  {
   "cell_type": "code",
   "execution_count": 34,
   "metadata": {},
   "outputs": [
    {
     "data": {
      "text/plain": [
       "0.7412729498463786"
      ]
     },
     "execution_count": 34,
     "metadata": {},
     "output_type": "execute_result"
    }
   ],
   "source": [
    "loss(y_test, X_test, weights) "
   ]
  },
  {
   "cell_type": "code",
   "execution_count": null,
   "metadata": {},
   "outputs": [],
   "source": []
  }
 ],
 "metadata": {
  "kernelspec": {
   "display_name": "Python 3",
   "language": "python",
   "name": "python3"
  },
  "language_info": {
   "codemirror_mode": {
    "name": "ipython",
    "version": 3
   },
   "file_extension": ".py",
   "mimetype": "text/x-python",
   "name": "python",
   "nbconvert_exporter": "python",
   "pygments_lexer": "ipython3",
   "version": "3.6.4"
  }
 },
 "nbformat": 4,
 "nbformat_minor": 2
}
