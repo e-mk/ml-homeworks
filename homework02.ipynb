{
 "cells": [
  {
   "cell_type": "markdown",
   "metadata": {},
   "source": [
    "# Homework 2"
   ]
  },
  {
   "cell_type": "markdown",
   "metadata": {},
   "source": [
    "## Logistic Regression Implementation"
   ]
  },
  {
   "cell_type": "markdown",
   "metadata": {},
   "source": [
    "![](./logistic_regression_schematic.png)"
   ]
  },
  {
   "cell_type": "markdown",
   "metadata": {},
   "source": [
    "We will try to uptimise Logistic Regression by minimising the following loss function wrt $\\mathbf{w}=[w_0, \\dots, w_D]$ \n",
    "$$  \\mathcal{L}(\\mathbf{w}) = - \\frac{1}{N} \\sum_{i=1}^{N}\\big( y_i \\log \\sigma(\\mathbf{w}^T\\mathbf{x}_i) + (1- y_i) \\log (1- \\sigma(\\mathbf{w}^T\\mathbf{x}_i)\\big) $$"
   ]
  },
  {
   "cell_type": "markdown",
   "metadata": {},
   "source": [
    "The dataset you will use is voting records in the US House of Representatives in 1984. The goal is to predict whether the representative is a Republican or Democrat. The original dataset is available here:\n",
    "\n",
    "http://archive.ics.uci.edu/ml/datasets/Congressional+Voting+Records\n",
    "\n",
    "For the purpose of this practical, we have put the data in numpy array format, as well as deleted those records that had missing entries. This dataset is available on the slack and can be loaded as follows:"
   ]
  },
  {
   "cell_type": "code",
   "execution_count": 17,
   "metadata": {},
   "outputs": [
    {
     "name": "stdout",
     "output_type": "stream",
     "text": [
      "232 16\n"
     ]
    }
   ],
   "source": [
    "import pickle as cp\n",
    "import numpy as np\n",
    "import matplotlib.pyplot as plt\n",
    "\n",
    "X, y = cp.load(open('voting.pickle', 'rb'))\n",
    "N, D = X.shape\n",
    "\n",
    "print(N, D)"
   ]
  },
  {
   "cell_type": "code",
   "execution_count": 19,
   "metadata": {},
   "outputs": [
    {
     "data": {
      "image/png": "[encoded data removed]",
      "text/plain": [
       "<matplotlib.figure.Figure at 0x117882978>"
      ]
     },
     "metadata": {},
     "output_type": "display_data"
    }
   ],
   "source": [
    "from sklearn import linear_model\n",
    "\n",
    "lamda = 0.1\n",
    "C_reg = 1 / (2 * lamda)\n",
    "logreg = linear_model.LogisticRegression(C = C_reg, fit_intercept = True)\n",
    "sum_logreg_error = np.zeros(10)\n",
    "\n",
    "num_iterations = 1000\n",
    "\n",
    "for iter in range(num_iterations):\n",
    "    \n",
    "    N_train = int(0.8 * N)\n",
    "    shuffler = np.random.permutation(N)\n",
    "\n",
    "    X_train = X[shuffler[:N_train]]\n",
    "    y_train = y[shuffler[:N_train]]\n",
    "    \n",
    "    X_test = X[shuffler[N_train:]]\n",
    "    y_test = y[shuffler[N_train:]]\n",
    "\n",
    "    for i in range(10):\n",
    "        \n",
    "        size = int((i + 1) * N_train / 10)\n",
    "        logreg.fit(X_train[:size], y_train[:size])\n",
    "        \n",
    "        y_logreg = logreg.predict(X_test)\n",
    "        \n",
    "        sum_logreg_error[i] += np.sum(y_logreg != y_test)\n",
    "    \n",
    "plt.xlabel('Training set size')    \n",
    "plt.ylabel('Average Error')\n",
    "plt.title('Voting Dataset')\n",
    "\n",
    "plt.plot(range(10, 110, 10), sum_logreg_error / (num_iterations * (N-N_train)), 'r', label='Logistic Regression')\n",
    "\n",
    "plt.legend()\n",
    "plt.show()"
   ]
  },
  {
   "cell_type": "code",
   "execution_count": 20,
   "metadata": {},
   "outputs": [
    {
     "data": {
      "image/png": "[encoded data removed]",
      "text/plain": [
       "<matplotlib.figure.Figure at 0x1180134a8>"
      ]
     },
     "metadata": {},
     "output_type": "display_data"
    }
   ],
   "source": [
    "from sklearn.datasets import load_iris\n",
    "iris = load_iris()\n",
    "X, y = iris['data'], iris['target']\n",
    "N, D = X.shape\n",
    "    \n",
    "lamda = 0.1\n",
    "C_reg = 1 / (2 * lamda)\n",
    "logreg = linear_model.LogisticRegression(C = C_reg, fit_intercept = True)\n",
    "\n",
    "sum_logreg_error = np.zeros(10)\n",
    "\n",
    "num_iterations = 1000\n",
    "\n",
    "for iter in range(0, num_iterations):\n",
    "\n",
    "    Ntrain = int(0.8 * N)\n",
    "    shuffler = np.random.permutation(N)\n",
    "    Xtrain = X[shuffler[:Ntrain]]\n",
    "    ytrain = y[shuffler[:Ntrain]]\n",
    "    Xtest = X[shuffler[Ntrain:]]\n",
    "    ytest = y[shuffler[Ntrain:]]\n",
    "\n",
    "    for i in range(0, 10):\n",
    "        size = int((i+1) * Ntrain / 10)\n",
    "        \n",
    "        logreg.fit(Xtrain[:size], ytrain[:size])\n",
    "        y_logreg = logreg.predict(Xtest)\n",
    "        sum_logreg_error[i] += np.sum(y_logreg != ytest)\n",
    "\n",
    "plt.xlabel('Training set size')    \n",
    "plt.ylabel('Average Error')\n",
    "plt.title('Iris Dataset')\n",
    "\n",
    "plt.plot(range(10, 110, 10), sum_logreg_error / (num_iterations * (N - Ntrain)), 'r', label='Logistic Regression')\n",
    "\n",
    "plt.legend()\n",
    "plt.show()"
   ]
  }
 ],
 "metadata": {
  "kernelspec": {
   "display_name": "Python 3",
   "language": "python",
   "name": "python3"
  },
  "language_info": {
   "codemirror_mode": {
    "name": "ipython",
    "version": 3
   },
   "file_extension": ".py",
   "mimetype": "text/x-python",
   "name": "python",
   "nbconvert_exporter": "python",
   "pygments_lexer": "ipython3",
   "version": "3.6.2"
  }
 },
 "nbformat": 4,
 "nbformat_minor": 1
}
